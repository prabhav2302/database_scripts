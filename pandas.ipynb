{
 "cells": [
  {
   "cell_type": "markdown",
   "metadata": {},
   "source": [
    "# pandas exploration\n",
    "In this assignment you will select a data set and do some munging and analysis of it using `pandas`, Jupyter Notebooks, and associated Python-centric data science tools."
   ]
  },
  {
   "cell_type": "markdown",
   "metadata": {},
   "source": [
    "Import the core data science libraries:"
   ]
  },
  {
   "cell_type": "code",
   "execution_count": 1,
   "metadata": {},
   "outputs": [],
   "source": [
    "%matplotlib inline\n",
    "import matplotlib.pyplot as plt\n",
    "import numpy as np\n",
    "import pandas as pd"
   ]
  },
  {
   "cell_type": "markdown",
   "metadata": {},
   "source": [
    "## Import the raw data\n",
    "In this section, you will import the raw data into a `pandas` DataFrame."
   ]
  },
  {
   "cell_type": "code",
   "execution_count": 2,
   "metadata": {},
   "outputs": [],
   "source": [
    "# place your code into this Code cell\n",
    "df = pd.read_csv(\"data/database.csv\",low_memory=False)"
   ]
  },
  {
   "cell_type": "markdown",
   "metadata": {},
   "source": [
    "## Data inspection"
   ]
  },
  {
   "cell_type": "markdown",
   "metadata": {},
   "source": [
    "Here are 5 rows that are selected at random."
   ]
  },
  {
   "cell_type": "code",
   "execution_count": 3,
   "metadata": {},
   "outputs": [
    {
     "data": {
      "text/html": [
       "<div>\n",
       "<style scoped>\n",
       "    .dataframe tbody tr th:only-of-type {\n",
       "        vertical-align: middle;\n",
       "    }\n",
       "\n",
       "    .dataframe tbody tr th {\n",
       "        vertical-align: top;\n",
       "    }\n",
       "\n",
       "    .dataframe thead th {\n",
       "        text-align: right;\n",
       "    }\n",
       "</style>\n",
       "<table border=\"1\" class=\"dataframe\">\n",
       "  <thead>\n",
       "    <tr style=\"text-align: right;\">\n",
       "      <th></th>\n",
       "      <th>Record ID</th>\n",
       "      <th>Incident Year</th>\n",
       "      <th>Incident Month</th>\n",
       "      <th>Incident Day</th>\n",
       "      <th>Operator ID</th>\n",
       "      <th>Operator</th>\n",
       "      <th>Aircraft</th>\n",
       "      <th>Aircraft Type</th>\n",
       "      <th>Aircraft Make</th>\n",
       "      <th>Aircraft Model</th>\n",
       "      <th>...</th>\n",
       "      <th>Fuselage Strike</th>\n",
       "      <th>Fuselage Damage</th>\n",
       "      <th>Landing Gear Strike</th>\n",
       "      <th>Landing Gear Damage</th>\n",
       "      <th>Tail Strike</th>\n",
       "      <th>Tail Damage</th>\n",
       "      <th>Lights Strike</th>\n",
       "      <th>Lights Damage</th>\n",
       "      <th>Other Strike</th>\n",
       "      <th>Other Damage</th>\n",
       "    </tr>\n",
       "  </thead>\n",
       "  <tbody>\n",
       "    <tr>\n",
       "      <th>102803</th>\n",
       "      <td>267031</td>\n",
       "      <td>2009</td>\n",
       "      <td>8</td>\n",
       "      <td>22</td>\n",
       "      <td>DAL</td>\n",
       "      <td>DELTA AIR LINES</td>\n",
       "      <td>MD-88</td>\n",
       "      <td>A</td>\n",
       "      <td>583</td>\n",
       "      <td>37</td>\n",
       "      <td>...</td>\n",
       "      <td>0</td>\n",
       "      <td>0</td>\n",
       "      <td>0</td>\n",
       "      <td>0</td>\n",
       "      <td>0</td>\n",
       "      <td>0</td>\n",
       "      <td>0</td>\n",
       "      <td>0</td>\n",
       "      <td>0</td>\n",
       "      <td>0</td>\n",
       "    </tr>\n",
       "    <tr>\n",
       "      <th>82553</th>\n",
       "      <td>246500</td>\n",
       "      <td>2007</td>\n",
       "      <td>5</td>\n",
       "      <td>2</td>\n",
       "      <td>FDX</td>\n",
       "      <td>FEDEX EXPRESS</td>\n",
       "      <td>MD-11</td>\n",
       "      <td>A</td>\n",
       "      <td>583</td>\n",
       "      <td>39</td>\n",
       "      <td>...</td>\n",
       "      <td>0</td>\n",
       "      <td>0</td>\n",
       "      <td>0</td>\n",
       "      <td>0</td>\n",
       "      <td>0</td>\n",
       "      <td>0</td>\n",
       "      <td>0</td>\n",
       "      <td>0</td>\n",
       "      <td>0</td>\n",
       "      <td>0</td>\n",
       "    </tr>\n",
       "    <tr>\n",
       "      <th>93480</th>\n",
       "      <td>257873</td>\n",
       "      <td>2008</td>\n",
       "      <td>8</td>\n",
       "      <td>14</td>\n",
       "      <td>DAL</td>\n",
       "      <td>DELTA AIR LINES</td>\n",
       "      <td>B-737-800</td>\n",
       "      <td>A</td>\n",
       "      <td>148</td>\n",
       "      <td>43</td>\n",
       "      <td>...</td>\n",
       "      <td>0</td>\n",
       "      <td>0</td>\n",
       "      <td>0</td>\n",
       "      <td>0</td>\n",
       "      <td>0</td>\n",
       "      <td>0</td>\n",
       "      <td>0</td>\n",
       "      <td>0</td>\n",
       "      <td>0</td>\n",
       "      <td>0</td>\n",
       "    </tr>\n",
       "    <tr>\n",
       "      <th>65077</th>\n",
       "      <td>232742</td>\n",
       "      <td>2004</td>\n",
       "      <td>11</td>\n",
       "      <td>13</td>\n",
       "      <td>UNK</td>\n",
       "      <td>UNKNOWN</td>\n",
       "      <td>UNKNOWN</td>\n",
       "      <td>NaN</td>\n",
       "      <td>NaN</td>\n",
       "      <td>NaN</td>\n",
       "      <td>...</td>\n",
       "      <td>0</td>\n",
       "      <td>0</td>\n",
       "      <td>0</td>\n",
       "      <td>0</td>\n",
       "      <td>0</td>\n",
       "      <td>0</td>\n",
       "      <td>0</td>\n",
       "      <td>0</td>\n",
       "      <td>0</td>\n",
       "      <td>0</td>\n",
       "    </tr>\n",
       "    <tr>\n",
       "      <th>154985</th>\n",
       "      <td>348941</td>\n",
       "      <td>2014</td>\n",
       "      <td>7</td>\n",
       "      <td>7</td>\n",
       "      <td>ASQ</td>\n",
       "      <td>EXPRESSJET AIRLINES</td>\n",
       "      <td>EMB-145</td>\n",
       "      <td>A</td>\n",
       "      <td>332</td>\n",
       "      <td>14</td>\n",
       "      <td>...</td>\n",
       "      <td>0</td>\n",
       "      <td>0</td>\n",
       "      <td>0</td>\n",
       "      <td>0</td>\n",
       "      <td>0</td>\n",
       "      <td>0</td>\n",
       "      <td>0</td>\n",
       "      <td>0</td>\n",
       "      <td>1</td>\n",
       "      <td>0</td>\n",
       "    </tr>\n",
       "  </tbody>\n",
       "</table>\n",
       "<p>5 rows × 66 columns</p>\n",
       "</div>"
      ],
      "text/plain": [
       "        Record ID  Incident Year  Incident Month  Incident Day Operator ID  \\\n",
       "102803     267031           2009               8            22         DAL   \n",
       "82553      246500           2007               5             2         FDX   \n",
       "93480      257873           2008               8            14         DAL   \n",
       "65077      232742           2004              11            13         UNK   \n",
       "154985     348941           2014               7             7         ASQ   \n",
       "\n",
       "                   Operator   Aircraft Aircraft Type Aircraft Make  \\\n",
       "102803      DELTA AIR LINES      MD-88             A           583   \n",
       "82553         FEDEX EXPRESS      MD-11             A           583   \n",
       "93480       DELTA AIR LINES  B-737-800             A           148   \n",
       "65077               UNKNOWN    UNKNOWN           NaN           NaN   \n",
       "154985  EXPRESSJET AIRLINES    EMB-145             A           332   \n",
       "\n",
       "       Aircraft Model  ...  Fuselage Strike  Fuselage Damage  \\\n",
       "102803             37  ...                0                0   \n",
       "82553              39  ...                0                0   \n",
       "93480              43  ...                0                0   \n",
       "65077             NaN  ...                0                0   \n",
       "154985             14  ...                0                0   \n",
       "\n",
       "       Landing Gear Strike  Landing Gear Damage Tail Strike Tail Damage  \\\n",
       "102803                   0                    0           0           0   \n",
       "82553                    0                    0           0           0   \n",
       "93480                    0                    0           0           0   \n",
       "65077                    0                    0           0           0   \n",
       "154985                   0                    0           0           0   \n",
       "\n",
       "        Lights Strike Lights Damage  Other Strike Other Damage  \n",
       "102803              0             0             0            0  \n",
       "82553               0             0             0            0  \n",
       "93480               0             0             0            0  \n",
       "65077               0             0             0            0  \n",
       "154985              0             0             1            0  \n",
       "\n",
       "[5 rows x 66 columns]"
      ]
     },
     "execution_count": 3,
     "metadata": {},
     "output_type": "execute_result"
    }
   ],
   "source": [
    "df.sample(5)"
   ]
  },
  {
   "cell_type": "markdown",
   "metadata": {},
   "source": [
    "Here are all the columns and their datatypes."
   ]
  },
  {
   "cell_type": "code",
   "execution_count": 4,
   "metadata": {},
   "outputs": [
    {
     "name": "stdout",
     "output_type": "stream",
     "text": [
      "<class 'pandas.core.frame.DataFrame'>\n",
      "RangeIndex: 174104 entries, 0 to 174103\n",
      "Data columns (total 66 columns):\n",
      " #   Column                Non-Null Count   Dtype  \n",
      "---  ------                --------------   -----  \n",
      " 0   Record ID             174104 non-null  int64  \n",
      " 1   Incident Year         174104 non-null  int64  \n",
      " 2   Incident Month        174104 non-null  int64  \n",
      " 3   Incident Day          174104 non-null  int64  \n",
      " 4   Operator ID           174104 non-null  object \n",
      " 5   Operator              174104 non-null  object \n",
      " 6   Aircraft              174104 non-null  object \n",
      " 7   Aircraft Type         133074 non-null  object \n",
      " 8   Aircraft Make         131051 non-null  object \n",
      " 9   Aircraft Model        122439 non-null  object \n",
      " 10  Aircraft Mass         127320 non-null  float64\n",
      " 11  Engine Make           123434 non-null  float64\n",
      " 12  Engine Model          121988 non-null  object \n",
      " 13  Engines               127342 non-null  float64\n",
      " 14  Engine Type           127282 non-null  object \n",
      " 15  Engine1 Position      126193 non-null  object \n",
      " 16  Engine2 Position      118715 non-null  float64\n",
      " 17  Engine3 Position      11659 non-null   object \n",
      " 18  Engine4 Position      3092 non-null    float64\n",
      " 19  Airport ID            174104 non-null  object \n",
      " 20  Airport               173814 non-null  object \n",
      " 21  State                 152128 non-null  object \n",
      " 22  FAA Region            155202 non-null  object \n",
      " 23  Warning Issued        76418 non-null   object \n",
      " 24  Flight Phase          118802 non-null  object \n",
      " 25  Visibility            109933 non-null  object \n",
      " 26  Precipitation         88322 non-null   object \n",
      " 27  Height                103677 non-null  float64\n",
      " 28  Speed                 71258 non-null   float64\n",
      " 29  Distance              99713 non-null   float64\n",
      " 30  Species ID            174104 non-null  object \n",
      " 31  Species Name          174024 non-null  object \n",
      " 32  Species Quantity      169627 non-null  object \n",
      " 33  Flight Impact         99465 non-null   object \n",
      " 34  Fatalities            565 non-null     float64\n",
      " 35  Injuries              229 non-null     float64\n",
      " 36  Aircraft Damage       174104 non-null  int64  \n",
      " 37  Radome Strike         174104 non-null  int64  \n",
      " 38  Radome Damage         174104 non-null  int64  \n",
      " 39  Windshield Strike     174104 non-null  int64  \n",
      " 40  Windshield Damage     174104 non-null  int64  \n",
      " 41  Nose Strike           174104 non-null  int64  \n",
      " 42  Nose Damage           174104 non-null  int64  \n",
      " 43  Engine1 Strike        174104 non-null  int64  \n",
      " 44  Engine1 Damage        174104 non-null  int64  \n",
      " 45  Engine2 Strike        174104 non-null  int64  \n",
      " 46  Engine2 Damage        174104 non-null  int64  \n",
      " 47  Engine3 Strike        174104 non-null  int64  \n",
      " 48  Engine3 Damage        174104 non-null  int64  \n",
      " 49  Engine4 Strike        174104 non-null  int64  \n",
      " 50  Engine4 Damage        174104 non-null  int64  \n",
      " 51  Engine Ingested       174104 non-null  int64  \n",
      " 52  Propeller Strike      174104 non-null  int64  \n",
      " 53  Propeller Damage      174104 non-null  int64  \n",
      " 54  Wing or Rotor Strike  174104 non-null  int64  \n",
      " 55  Wing or Rotor Damage  174104 non-null  int64  \n",
      " 56  Fuselage Strike       174104 non-null  int64  \n",
      " 57  Fuselage Damage       174104 non-null  int64  \n",
      " 58  Landing Gear Strike   174104 non-null  int64  \n",
      " 59  Landing Gear Damage   174104 non-null  int64  \n",
      " 60  Tail Strike           174104 non-null  int64  \n",
      " 61  Tail Damage           174104 non-null  int64  \n",
      " 62  Lights Strike         174104 non-null  int64  \n",
      " 63  Lights Damage         174104 non-null  int64  \n",
      " 64  Other Strike          174104 non-null  int64  \n",
      " 65  Other Damage          174104 non-null  int64  \n",
      "dtypes: float64(10), int64(34), object(22)\n",
      "memory usage: 87.7+ MB\n"
     ]
    }
   ],
   "source": [
    "df.info()\n"
   ]
  },
  {
   "cell_type": "markdown",
   "metadata": {},
   "source": [
    "In my dataset, some of the really cool and unique features were \"Speed\", \"Species Name\", and \"Operator\". I find it extremely interesting how  people managed to identify exactly which animal had struck them and even managed to measure the speed with which aircraft was travelling when it had been struck by the animal."
   ]
  },
  {
   "cell_type": "code",
   "execution_count": 5,
   "metadata": {},
   "outputs": [
    {
     "data": {
      "text/html": [
       "<div>\n",
       "<style scoped>\n",
       "    .dataframe tbody tr th:only-of-type {\n",
       "        vertical-align: middle;\n",
       "    }\n",
       "\n",
       "    .dataframe tbody tr th {\n",
       "        vertical-align: top;\n",
       "    }\n",
       "\n",
       "    .dataframe thead th {\n",
       "        text-align: right;\n",
       "    }\n",
       "</style>\n",
       "<table border=\"1\" class=\"dataframe\">\n",
       "  <thead>\n",
       "    <tr style=\"text-align: right;\">\n",
       "      <th></th>\n",
       "      <th>Speed</th>\n",
       "      <th>Species Name</th>\n",
       "      <th>Flight Phase</th>\n",
       "      <th>Operator</th>\n",
       "    </tr>\n",
       "  </thead>\n",
       "  <tbody>\n",
       "    <tr>\n",
       "      <th>146242</th>\n",
       "      <td>NaN</td>\n",
       "      <td>UNKNOWN BIRD</td>\n",
       "      <td>LANDING ROLL</td>\n",
       "      <td>PSA AIRLINES</td>\n",
       "    </tr>\n",
       "    <tr>\n",
       "      <th>42680</th>\n",
       "      <td>NaN</td>\n",
       "      <td>UNKNOWN MEDIUM BIRD</td>\n",
       "      <td>NaN</td>\n",
       "      <td>CONTINENTAL AIRLINES</td>\n",
       "    </tr>\n",
       "    <tr>\n",
       "      <th>46154</th>\n",
       "      <td>NaN</td>\n",
       "      <td>MOURNING DOVE</td>\n",
       "      <td>NaN</td>\n",
       "      <td>UNKNOWN</td>\n",
       "    </tr>\n",
       "    <tr>\n",
       "      <th>117772</th>\n",
       "      <td>NaN</td>\n",
       "      <td>UNKNOWN BIRD</td>\n",
       "      <td>LANDING ROLL</td>\n",
       "      <td>HORIZON AIR</td>\n",
       "    </tr>\n",
       "    <tr>\n",
       "      <th>43618</th>\n",
       "      <td>NaN</td>\n",
       "      <td>HAWK</td>\n",
       "      <td>TAKEOFF RUN</td>\n",
       "      <td>PRIVATELY OWNED</td>\n",
       "    </tr>\n",
       "  </tbody>\n",
       "</table>\n",
       "</div>"
      ],
      "text/plain": [
       "        Speed         Species Name  Flight Phase              Operator\n",
       "146242    NaN         UNKNOWN BIRD  LANDING ROLL          PSA AIRLINES\n",
       "42680     NaN  UNKNOWN MEDIUM BIRD           NaN  CONTINENTAL AIRLINES\n",
       "46154     NaN        MOURNING DOVE           NaN               UNKNOWN\n",
       "117772    NaN         UNKNOWN BIRD  LANDING ROLL           HORIZON AIR\n",
       "43618     NaN                 HAWK   TAKEOFF RUN       PRIVATELY OWNED"
      ]
     },
     "execution_count": 5,
     "metadata": {},
     "output_type": "execute_result"
    }
   ],
   "source": [
    "df[[\"Speed\",\"Species Name\",\"Flight Phase\",\"Operator\"]].sample(5)\n"
   ]
  },
  {
   "cell_type": "markdown",
   "metadata": {},
   "source": [
    "## Data munging"
   ]
  },
  {
   "cell_type": "markdown",
   "metadata": {},
   "source": [
    "As can be seen from the df.info, the dataset has 66 columns and some of these columns are not particularly interesting. Instead, I decided to first modify the dataset so that we would be dealing with columns that were somewhat interesting and would provide some cool and insightful analysis. I decided the most important columns were:\n",
    "1. Incident Year\n",
    "2. Incident Month \n",
    "3. Incident Day\n",
    "4. Operator\n",
    "5. Airport\n",
    "6. State\n",
    "7. Flight Phase\n",
    "8. Height\n",
    "9. Species Name \n",
    "10. Speed\n",
    "10. Aircraft Damage\n"
   ]
  },
  {
   "cell_type": "markdown",
   "metadata": {},
   "source": [
    "### Munge 1: Modifying Dataframe so that it contains only the most interesting and insightful columns"
   ]
  },
  {
   "cell_type": "markdown",
   "metadata": {},
   "source": [
    "Here is how the data looked before: \n"
   ]
  },
  {
   "cell_type": "code",
   "execution_count": 6,
   "metadata": {},
   "outputs": [
    {
     "data": {
      "text/html": [
       "<div>\n",
       "<style scoped>\n",
       "    .dataframe tbody tr th:only-of-type {\n",
       "        vertical-align: middle;\n",
       "    }\n",
       "\n",
       "    .dataframe tbody tr th {\n",
       "        vertical-align: top;\n",
       "    }\n",
       "\n",
       "    .dataframe thead th {\n",
       "        text-align: right;\n",
       "    }\n",
       "</style>\n",
       "<table border=\"1\" class=\"dataframe\">\n",
       "  <thead>\n",
       "    <tr style=\"text-align: right;\">\n",
       "      <th></th>\n",
       "      <th>Record ID</th>\n",
       "      <th>Incident Year</th>\n",
       "      <th>Incident Month</th>\n",
       "      <th>Incident Day</th>\n",
       "      <th>Operator ID</th>\n",
       "      <th>Operator</th>\n",
       "      <th>Aircraft</th>\n",
       "      <th>Aircraft Type</th>\n",
       "      <th>Aircraft Make</th>\n",
       "      <th>Aircraft Model</th>\n",
       "      <th>...</th>\n",
       "      <th>Fuselage Strike</th>\n",
       "      <th>Fuselage Damage</th>\n",
       "      <th>Landing Gear Strike</th>\n",
       "      <th>Landing Gear Damage</th>\n",
       "      <th>Tail Strike</th>\n",
       "      <th>Tail Damage</th>\n",
       "      <th>Lights Strike</th>\n",
       "      <th>Lights Damage</th>\n",
       "      <th>Other Strike</th>\n",
       "      <th>Other Damage</th>\n",
       "    </tr>\n",
       "  </thead>\n",
       "  <tbody>\n",
       "    <tr>\n",
       "      <th>9726</th>\n",
       "      <td>102189</td>\n",
       "      <td>1993</td>\n",
       "      <td>9</td>\n",
       "      <td>26</td>\n",
       "      <td>UAL</td>\n",
       "      <td>UNITED AIRLINES</td>\n",
       "      <td>B-737</td>\n",
       "      <td>A</td>\n",
       "      <td>148</td>\n",
       "      <td>95</td>\n",
       "      <td>...</td>\n",
       "      <td>0</td>\n",
       "      <td>0</td>\n",
       "      <td>0</td>\n",
       "      <td>0</td>\n",
       "      <td>0</td>\n",
       "      <td>0</td>\n",
       "      <td>0</td>\n",
       "      <td>0</td>\n",
       "      <td>0</td>\n",
       "      <td>0</td>\n",
       "    </tr>\n",
       "    <tr>\n",
       "      <th>78919</th>\n",
       "      <td>245946</td>\n",
       "      <td>2006</td>\n",
       "      <td>9</td>\n",
       "      <td>24</td>\n",
       "      <td>UNK</td>\n",
       "      <td>UNKNOWN</td>\n",
       "      <td>UNKNOWN</td>\n",
       "      <td>NaN</td>\n",
       "      <td>NaN</td>\n",
       "      <td>NaN</td>\n",
       "      <td>...</td>\n",
       "      <td>0</td>\n",
       "      <td>0</td>\n",
       "      <td>0</td>\n",
       "      <td>0</td>\n",
       "      <td>0</td>\n",
       "      <td>0</td>\n",
       "      <td>0</td>\n",
       "      <td>0</td>\n",
       "      <td>0</td>\n",
       "      <td>0</td>\n",
       "    </tr>\n",
       "    <tr>\n",
       "      <th>112960</th>\n",
       "      <td>305926</td>\n",
       "      <td>2010</td>\n",
       "      <td>8</td>\n",
       "      <td>27</td>\n",
       "      <td>SKW</td>\n",
       "      <td>SKYWEST AIRLINES</td>\n",
       "      <td>CRJ100/200</td>\n",
       "      <td>A</td>\n",
       "      <td>188</td>\n",
       "      <td>10</td>\n",
       "      <td>...</td>\n",
       "      <td>0</td>\n",
       "      <td>0</td>\n",
       "      <td>0</td>\n",
       "      <td>0</td>\n",
       "      <td>0</td>\n",
       "      <td>0</td>\n",
       "      <td>0</td>\n",
       "      <td>0</td>\n",
       "      <td>0</td>\n",
       "      <td>0</td>\n",
       "    </tr>\n",
       "    <tr>\n",
       "      <th>103957</th>\n",
       "      <td>268557</td>\n",
       "      <td>2009</td>\n",
       "      <td>9</td>\n",
       "      <td>19</td>\n",
       "      <td>BUS</td>\n",
       "      <td>BUSINESS</td>\n",
       "      <td>GLOBAL EXPRS</td>\n",
       "      <td>A</td>\n",
       "      <td>NaN</td>\n",
       "      <td>NaN</td>\n",
       "      <td>...</td>\n",
       "      <td>0</td>\n",
       "      <td>0</td>\n",
       "      <td>0</td>\n",
       "      <td>0</td>\n",
       "      <td>0</td>\n",
       "      <td>0</td>\n",
       "      <td>1</td>\n",
       "      <td>1</td>\n",
       "      <td>0</td>\n",
       "      <td>0</td>\n",
       "    </tr>\n",
       "    <tr>\n",
       "      <th>58789</th>\n",
       "      <td>230141</td>\n",
       "      <td>2004</td>\n",
       "      <td>2</td>\n",
       "      <td>11</td>\n",
       "      <td>UAL</td>\n",
       "      <td>UNITED AIRLINES</td>\n",
       "      <td>B-737-300</td>\n",
       "      <td>A</td>\n",
       "      <td>148</td>\n",
       "      <td>24</td>\n",
       "      <td>...</td>\n",
       "      <td>0</td>\n",
       "      <td>0</td>\n",
       "      <td>0</td>\n",
       "      <td>0</td>\n",
       "      <td>0</td>\n",
       "      <td>0</td>\n",
       "      <td>0</td>\n",
       "      <td>0</td>\n",
       "      <td>1</td>\n",
       "      <td>0</td>\n",
       "    </tr>\n",
       "  </tbody>\n",
       "</table>\n",
       "<p>5 rows × 66 columns</p>\n",
       "</div>"
      ],
      "text/plain": [
       "        Record ID  Incident Year  Incident Month  Incident Day Operator ID  \\\n",
       "9726       102189           1993               9            26         UAL   \n",
       "78919      245946           2006               9            24         UNK   \n",
       "112960     305926           2010               8            27         SKW   \n",
       "103957     268557           2009               9            19         BUS   \n",
       "58789      230141           2004               2            11         UAL   \n",
       "\n",
       "                Operator      Aircraft Aircraft Type Aircraft Make  \\\n",
       "9726     UNITED AIRLINES         B-737             A           148   \n",
       "78919            UNKNOWN       UNKNOWN           NaN           NaN   \n",
       "112960  SKYWEST AIRLINES    CRJ100/200             A           188   \n",
       "103957          BUSINESS  GLOBAL EXPRS             A           NaN   \n",
       "58789    UNITED AIRLINES     B-737-300             A           148   \n",
       "\n",
       "       Aircraft Model  ...  Fuselage Strike  Fuselage Damage  \\\n",
       "9726               95  ...                0                0   \n",
       "78919             NaN  ...                0                0   \n",
       "112960             10  ...                0                0   \n",
       "103957            NaN  ...                0                0   \n",
       "58789              24  ...                0                0   \n",
       "\n",
       "       Landing Gear Strike  Landing Gear Damage Tail Strike Tail Damage  \\\n",
       "9726                     0                    0           0           0   \n",
       "78919                    0                    0           0           0   \n",
       "112960                   0                    0           0           0   \n",
       "103957                   0                    0           0           0   \n",
       "58789                    0                    0           0           0   \n",
       "\n",
       "        Lights Strike Lights Damage  Other Strike Other Damage  \n",
       "9726                0             0             0            0  \n",
       "78919               0             0             0            0  \n",
       "112960              0             0             0            0  \n",
       "103957              1             1             0            0  \n",
       "58789               0             0             1            0  \n",
       "\n",
       "[5 rows x 66 columns]"
      ]
     },
     "execution_count": 6,
     "metadata": {},
     "output_type": "execute_result"
    }
   ],
   "source": [
    "df.sample(5)"
   ]
  },
  {
   "cell_type": "markdown",
   "metadata": {},
   "source": [
    "Here is how the data looks now"
   ]
  },
  {
   "cell_type": "code",
   "execution_count": 7,
   "metadata": {},
   "outputs": [
    {
     "data": {
      "text/html": [
       "<div>\n",
       "<style scoped>\n",
       "    .dataframe tbody tr th:only-of-type {\n",
       "        vertical-align: middle;\n",
       "    }\n",
       "\n",
       "    .dataframe tbody tr th {\n",
       "        vertical-align: top;\n",
       "    }\n",
       "\n",
       "    .dataframe thead th {\n",
       "        text-align: right;\n",
       "    }\n",
       "</style>\n",
       "<table border=\"1\" class=\"dataframe\">\n",
       "  <thead>\n",
       "    <tr style=\"text-align: right;\">\n",
       "      <th></th>\n",
       "      <th>Incident Year</th>\n",
       "      <th>Incident Month</th>\n",
       "      <th>Incident Day</th>\n",
       "      <th>Operator</th>\n",
       "      <th>Airport</th>\n",
       "      <th>State</th>\n",
       "      <th>Flight Phase</th>\n",
       "      <th>Height</th>\n",
       "      <th>Species Name</th>\n",
       "      <th>Speed</th>\n",
       "      <th>Aircraft Damage</th>\n",
       "    </tr>\n",
       "  </thead>\n",
       "  <tbody>\n",
       "    <tr>\n",
       "      <th>0</th>\n",
       "      <td>1990</td>\n",
       "      <td>1</td>\n",
       "      <td>1</td>\n",
       "      <td>DELTA AIR LINES</td>\n",
       "      <td>CINCINNATI/NORTHERN KENTUCKY INTL ARPT</td>\n",
       "      <td>KY</td>\n",
       "      <td>CLIMB</td>\n",
       "      <td>NaN</td>\n",
       "      <td>GULL</td>\n",
       "      <td>NaN</td>\n",
       "      <td>1</td>\n",
       "    </tr>\n",
       "    <tr>\n",
       "      <th>1</th>\n",
       "      <td>1990</td>\n",
       "      <td>1</td>\n",
       "      <td>1</td>\n",
       "      <td>HAWAIIAN AIR</td>\n",
       "      <td>LIHUE ARPT</td>\n",
       "      <td>HI</td>\n",
       "      <td>TAKEOFF RUN</td>\n",
       "      <td>0.0</td>\n",
       "      <td>HOUSE SPARROW</td>\n",
       "      <td>NaN</td>\n",
       "      <td>0</td>\n",
       "    </tr>\n",
       "    <tr>\n",
       "      <th>2</th>\n",
       "      <td>1990</td>\n",
       "      <td>1</td>\n",
       "      <td>2</td>\n",
       "      <td>UNKNOWN</td>\n",
       "      <td>LIHUE ARPT</td>\n",
       "      <td>HI</td>\n",
       "      <td>NaN</td>\n",
       "      <td>NaN</td>\n",
       "      <td>BARN OWL</td>\n",
       "      <td>NaN</td>\n",
       "      <td>0</td>\n",
       "    </tr>\n",
       "    <tr>\n",
       "      <th>3</th>\n",
       "      <td>1990</td>\n",
       "      <td>1</td>\n",
       "      <td>3</td>\n",
       "      <td>MILITARY</td>\n",
       "      <td>MYRTLE BEACH INTL</td>\n",
       "      <td>SC</td>\n",
       "      <td>APPROACH</td>\n",
       "      <td>200.0</td>\n",
       "      <td>UNKNOWN MEDIUM BIRD</td>\n",
       "      <td>138.0</td>\n",
       "      <td>0</td>\n",
       "    </tr>\n",
       "    <tr>\n",
       "      <th>4</th>\n",
       "      <td>1990</td>\n",
       "      <td>1</td>\n",
       "      <td>3</td>\n",
       "      <td>MILITARY</td>\n",
       "      <td>JACKSONVILLE INTL</td>\n",
       "      <td>FL</td>\n",
       "      <td>CLIMB</td>\n",
       "      <td>100.0</td>\n",
       "      <td>FINCH</td>\n",
       "      <td>200.0</td>\n",
       "      <td>0</td>\n",
       "    </tr>\n",
       "    <tr>\n",
       "      <th>...</th>\n",
       "      <td>...</td>\n",
       "      <td>...</td>\n",
       "      <td>...</td>\n",
       "      <td>...</td>\n",
       "      <td>...</td>\n",
       "      <td>...</td>\n",
       "      <td>...</td>\n",
       "      <td>...</td>\n",
       "      <td>...</td>\n",
       "      <td>...</td>\n",
       "      <td>...</td>\n",
       "    </tr>\n",
       "    <tr>\n",
       "      <th>174099</th>\n",
       "      <td>2015</td>\n",
       "      <td>9</td>\n",
       "      <td>30</td>\n",
       "      <td>SOUTHWEST AIRLINES</td>\n",
       "      <td>NaN</td>\n",
       "      <td>NaN</td>\n",
       "      <td>NaN</td>\n",
       "      <td>NaN</td>\n",
       "      <td>UNKNOWN SMALL BIRD</td>\n",
       "      <td>NaN</td>\n",
       "      <td>0</td>\n",
       "    </tr>\n",
       "    <tr>\n",
       "      <th>174100</th>\n",
       "      <td>2015</td>\n",
       "      <td>9</td>\n",
       "      <td>30</td>\n",
       "      <td>SOUTHWEST AIRLINES</td>\n",
       "      <td>DALLAS LOVE FIELD ARPT</td>\n",
       "      <td>TX</td>\n",
       "      <td>APPROACH</td>\n",
       "      <td>5000.0</td>\n",
       "      <td>UNKNOWN SMALL BIRD</td>\n",
       "      <td>250.0</td>\n",
       "      <td>0</td>\n",
       "    </tr>\n",
       "    <tr>\n",
       "      <th>174101</th>\n",
       "      <td>2015</td>\n",
       "      <td>9</td>\n",
       "      <td>30</td>\n",
       "      <td>BUSINESS</td>\n",
       "      <td>MIAMI INTL</td>\n",
       "      <td>FL</td>\n",
       "      <td>CLIMB</td>\n",
       "      <td>3000.0</td>\n",
       "      <td>TURKEY VULTURE</td>\n",
       "      <td>200.0</td>\n",
       "      <td>1</td>\n",
       "    </tr>\n",
       "    <tr>\n",
       "      <th>174102</th>\n",
       "      <td>2015</td>\n",
       "      <td>9</td>\n",
       "      <td>30</td>\n",
       "      <td>HORIZON AIR</td>\n",
       "      <td>PORTLAND INTL (OR)</td>\n",
       "      <td>OR</td>\n",
       "      <td>DESCENT</td>\n",
       "      <td>6000.0</td>\n",
       "      <td>HERMIT THRUSH</td>\n",
       "      <td>NaN</td>\n",
       "      <td>0</td>\n",
       "    </tr>\n",
       "    <tr>\n",
       "      <th>174103</th>\n",
       "      <td>2015</td>\n",
       "      <td>9</td>\n",
       "      <td>30</td>\n",
       "      <td>AIR WISCONSIN AIRLINES</td>\n",
       "      <td>AUGUSTA REGIONAL ARPT AT BUSH FLD</td>\n",
       "      <td>GA</td>\n",
       "      <td>CLIMB</td>\n",
       "      <td>NaN</td>\n",
       "      <td>SWALLOW</td>\n",
       "      <td>NaN</td>\n",
       "      <td>0</td>\n",
       "    </tr>\n",
       "  </tbody>\n",
       "</table>\n",
       "<p>174104 rows × 11 columns</p>\n",
       "</div>"
      ],
      "text/plain": [
       "        Incident Year  Incident Month  Incident Day                Operator  \\\n",
       "0                1990               1             1         DELTA AIR LINES   \n",
       "1                1990               1             1            HAWAIIAN AIR   \n",
       "2                1990               1             2                 UNKNOWN   \n",
       "3                1990               1             3                MILITARY   \n",
       "4                1990               1             3                MILITARY   \n",
       "...               ...             ...           ...                     ...   \n",
       "174099           2015               9            30      SOUTHWEST AIRLINES   \n",
       "174100           2015               9            30      SOUTHWEST AIRLINES   \n",
       "174101           2015               9            30                BUSINESS   \n",
       "174102           2015               9            30             HORIZON AIR   \n",
       "174103           2015               9            30  AIR WISCONSIN AIRLINES   \n",
       "\n",
       "                                       Airport State Flight Phase  Height  \\\n",
       "0       CINCINNATI/NORTHERN KENTUCKY INTL ARPT    KY        CLIMB     NaN   \n",
       "1                                   LIHUE ARPT    HI  TAKEOFF RUN     0.0   \n",
       "2                                   LIHUE ARPT    HI          NaN     NaN   \n",
       "3                            MYRTLE BEACH INTL    SC     APPROACH   200.0   \n",
       "4                            JACKSONVILLE INTL    FL        CLIMB   100.0   \n",
       "...                                        ...   ...          ...     ...   \n",
       "174099                                     NaN   NaN          NaN     NaN   \n",
       "174100                  DALLAS LOVE FIELD ARPT    TX     APPROACH  5000.0   \n",
       "174101                              MIAMI INTL    FL        CLIMB  3000.0   \n",
       "174102                      PORTLAND INTL (OR)    OR      DESCENT  6000.0   \n",
       "174103       AUGUSTA REGIONAL ARPT AT BUSH FLD    GA        CLIMB     NaN   \n",
       "\n",
       "               Species Name  Speed  Aircraft Damage  \n",
       "0                      GULL    NaN                1  \n",
       "1             HOUSE SPARROW    NaN                0  \n",
       "2                  BARN OWL    NaN                0  \n",
       "3       UNKNOWN MEDIUM BIRD  138.0                0  \n",
       "4                     FINCH  200.0                0  \n",
       "...                     ...    ...              ...  \n",
       "174099   UNKNOWN SMALL BIRD    NaN                0  \n",
       "174100   UNKNOWN SMALL BIRD  250.0                0  \n",
       "174101       TURKEY VULTURE  200.0                1  \n",
       "174102        HERMIT THRUSH    NaN                0  \n",
       "174103              SWALLOW    NaN                0  \n",
       "\n",
       "[174104 rows x 11 columns]"
      ]
     },
     "execution_count": 7,
     "metadata": {},
     "output_type": "execute_result"
    }
   ],
   "source": [
    "df = df[[\"Incident Year\",\"Incident Month\",\"Incident Day\",\"Operator\",\"Airport\",\"State\",\"Flight Phase\",\"Height\",\"Species Name\",\"Speed\",\"Aircraft Damage\"]]\n",
    "df"
   ]
  },
  {
   "cell_type": "markdown",
   "metadata": {},
   "source": [
    "### Munge 2: Removing Rows with missing and unknown values"
   ]
  },
  {
   "cell_type": "markdown",
   "metadata": {},
   "source": [
    "If we look above, we can see that certain rows such as Index 2, don't have a value for flight phase or height. It is best to remove rows with missing values for two reasons. Firstly, when we conduct data Analysis later onwards it will negatively impact the data and cause systematic errors in statistical calculations. Secondly, by removing these rows, our data will become more insightful and easier to analyse. Next, I want to remove rows in which the value is NaN or Unknown. "
   ]
  },
  {
   "cell_type": "markdown",
   "metadata": {},
   "source": [
    "Here is how the data looks now"
   ]
  },
  {
   "cell_type": "code",
   "execution_count": 8,
   "metadata": {},
   "outputs": [
    {
     "data": {
      "text/html": [
       "<div>\n",
       "<style scoped>\n",
       "    .dataframe tbody tr th:only-of-type {\n",
       "        vertical-align: middle;\n",
       "    }\n",
       "\n",
       "    .dataframe tbody tr th {\n",
       "        vertical-align: top;\n",
       "    }\n",
       "\n",
       "    .dataframe thead th {\n",
       "        text-align: right;\n",
       "    }\n",
       "</style>\n",
       "<table border=\"1\" class=\"dataframe\">\n",
       "  <thead>\n",
       "    <tr style=\"text-align: right;\">\n",
       "      <th></th>\n",
       "      <th>Incident Year</th>\n",
       "      <th>Incident Month</th>\n",
       "      <th>Incident Day</th>\n",
       "      <th>Operator</th>\n",
       "      <th>Airport</th>\n",
       "      <th>State</th>\n",
       "      <th>Flight Phase</th>\n",
       "      <th>Height</th>\n",
       "      <th>Species Name</th>\n",
       "      <th>Speed</th>\n",
       "      <th>Aircraft Damage</th>\n",
       "    </tr>\n",
       "  </thead>\n",
       "  <tbody>\n",
       "    <tr>\n",
       "      <th>0</th>\n",
       "      <td>1990</td>\n",
       "      <td>1</td>\n",
       "      <td>3</td>\n",
       "      <td>MILITARY</td>\n",
       "      <td>JACKSONVILLE INTL</td>\n",
       "      <td>FL</td>\n",
       "      <td>CLIMB</td>\n",
       "      <td>100.0</td>\n",
       "      <td>FINCH</td>\n",
       "      <td>200.0</td>\n",
       "      <td>0</td>\n",
       "    </tr>\n",
       "    <tr>\n",
       "      <th>1</th>\n",
       "      <td>1990</td>\n",
       "      <td>1</td>\n",
       "      <td>8</td>\n",
       "      <td>1US AIRWAYS</td>\n",
       "      <td>ORLANDO INTL</td>\n",
       "      <td>FL</td>\n",
       "      <td>APPROACH</td>\n",
       "      <td>60.0</td>\n",
       "      <td>GULL</td>\n",
       "      <td>150.0</td>\n",
       "      <td>0</td>\n",
       "    </tr>\n",
       "    <tr>\n",
       "      <th>2</th>\n",
       "      <td>1990</td>\n",
       "      <td>1</td>\n",
       "      <td>11</td>\n",
       "      <td>BUSINESS</td>\n",
       "      <td>JOHN C TUNE ARPT</td>\n",
       "      <td>TN</td>\n",
       "      <td>TAKEOFF RUN</td>\n",
       "      <td>0.0</td>\n",
       "      <td>WHITE-TAILED DEER</td>\n",
       "      <td>100.0</td>\n",
       "      <td>1</td>\n",
       "    </tr>\n",
       "    <tr>\n",
       "      <th>3</th>\n",
       "      <td>1990</td>\n",
       "      <td>1</td>\n",
       "      <td>11</td>\n",
       "      <td>MILITARY</td>\n",
       "      <td>FORT SMITH REGIONAL ARPT</td>\n",
       "      <td>AR</td>\n",
       "      <td>CLIMB</td>\n",
       "      <td>1400.0</td>\n",
       "      <td>HORNED LARK</td>\n",
       "      <td>200.0</td>\n",
       "      <td>0</td>\n",
       "    </tr>\n",
       "    <tr>\n",
       "      <th>4</th>\n",
       "      <td>1990</td>\n",
       "      <td>1</td>\n",
       "      <td>11</td>\n",
       "      <td>SOUTHWEST AIRLINES</td>\n",
       "      <td>LOUIE ARMSTRONG NEW ORLEANS INTL ARPT</td>\n",
       "      <td>LA</td>\n",
       "      <td>TAKEOFF RUN</td>\n",
       "      <td>0.0</td>\n",
       "      <td>ROCK PIGEON</td>\n",
       "      <td>140.0</td>\n",
       "      <td>1</td>\n",
       "    </tr>\n",
       "    <tr>\n",
       "      <th>...</th>\n",
       "      <td>...</td>\n",
       "      <td>...</td>\n",
       "      <td>...</td>\n",
       "      <td>...</td>\n",
       "      <td>...</td>\n",
       "      <td>...</td>\n",
       "      <td>...</td>\n",
       "      <td>...</td>\n",
       "      <td>...</td>\n",
       "      <td>...</td>\n",
       "      <td>...</td>\n",
       "    </tr>\n",
       "    <tr>\n",
       "      <th>26890</th>\n",
       "      <td>2015</td>\n",
       "      <td>9</td>\n",
       "      <td>30</td>\n",
       "      <td>AMERICAN AIRLINES</td>\n",
       "      <td>CHARLOTTE/DOUGLAS INTL ARPT</td>\n",
       "      <td>NC</td>\n",
       "      <td>APPROACH</td>\n",
       "      <td>300.0</td>\n",
       "      <td>CHIMNEY SWIFT</td>\n",
       "      <td>145.0</td>\n",
       "      <td>0</td>\n",
       "    </tr>\n",
       "    <tr>\n",
       "      <th>26891</th>\n",
       "      <td>2015</td>\n",
       "      <td>9</td>\n",
       "      <td>30</td>\n",
       "      <td>BUSINESS</td>\n",
       "      <td>CENTENNIAL ARPT</td>\n",
       "      <td>CO</td>\n",
       "      <td>APPROACH</td>\n",
       "      <td>10.0</td>\n",
       "      <td>ROCK PIGEON</td>\n",
       "      <td>10.0</td>\n",
       "      <td>0</td>\n",
       "    </tr>\n",
       "    <tr>\n",
       "      <th>26892</th>\n",
       "      <td>2015</td>\n",
       "      <td>9</td>\n",
       "      <td>30</td>\n",
       "      <td>AMERICAN AIRLINES</td>\n",
       "      <td>CHARLOTTE/DOUGLAS INTL ARPT</td>\n",
       "      <td>NC</td>\n",
       "      <td>CLIMB</td>\n",
       "      <td>5500.0</td>\n",
       "      <td>INDIGO BUNTING</td>\n",
       "      <td>250.0</td>\n",
       "      <td>0</td>\n",
       "    </tr>\n",
       "    <tr>\n",
       "      <th>26893</th>\n",
       "      <td>2015</td>\n",
       "      <td>9</td>\n",
       "      <td>30</td>\n",
       "      <td>SOUTHWEST AIRLINES</td>\n",
       "      <td>EPPLEY AIRFIELD</td>\n",
       "      <td>NE</td>\n",
       "      <td>LANDING ROLL</td>\n",
       "      <td>0.0</td>\n",
       "      <td>BARN SWALLOW</td>\n",
       "      <td>110.0</td>\n",
       "      <td>0</td>\n",
       "    </tr>\n",
       "    <tr>\n",
       "      <th>26894</th>\n",
       "      <td>2015</td>\n",
       "      <td>9</td>\n",
       "      <td>30</td>\n",
       "      <td>BUSINESS</td>\n",
       "      <td>MIAMI INTL</td>\n",
       "      <td>FL</td>\n",
       "      <td>CLIMB</td>\n",
       "      <td>3000.0</td>\n",
       "      <td>TURKEY VULTURE</td>\n",
       "      <td>200.0</td>\n",
       "      <td>1</td>\n",
       "    </tr>\n",
       "  </tbody>\n",
       "</table>\n",
       "<p>26895 rows × 11 columns</p>\n",
       "</div>"
      ],
      "text/plain": [
       "       Incident Year  Incident Month  Incident Day            Operator  \\\n",
       "0               1990               1             3            MILITARY   \n",
       "1               1990               1             8         1US AIRWAYS   \n",
       "2               1990               1            11            BUSINESS   \n",
       "3               1990               1            11            MILITARY   \n",
       "4               1990               1            11  SOUTHWEST AIRLINES   \n",
       "...              ...             ...           ...                 ...   \n",
       "26890           2015               9            30   AMERICAN AIRLINES   \n",
       "26891           2015               9            30            BUSINESS   \n",
       "26892           2015               9            30   AMERICAN AIRLINES   \n",
       "26893           2015               9            30  SOUTHWEST AIRLINES   \n",
       "26894           2015               9            30            BUSINESS   \n",
       "\n",
       "                                     Airport State  Flight Phase  Height  \\\n",
       "0                          JACKSONVILLE INTL    FL         CLIMB   100.0   \n",
       "1                               ORLANDO INTL    FL      APPROACH    60.0   \n",
       "2                           JOHN C TUNE ARPT    TN   TAKEOFF RUN     0.0   \n",
       "3                   FORT SMITH REGIONAL ARPT    AR         CLIMB  1400.0   \n",
       "4      LOUIE ARMSTRONG NEW ORLEANS INTL ARPT    LA   TAKEOFF RUN     0.0   \n",
       "...                                      ...   ...           ...     ...   \n",
       "26890            CHARLOTTE/DOUGLAS INTL ARPT    NC      APPROACH   300.0   \n",
       "26891                        CENTENNIAL ARPT    CO      APPROACH    10.0   \n",
       "26892            CHARLOTTE/DOUGLAS INTL ARPT    NC         CLIMB  5500.0   \n",
       "26893                        EPPLEY AIRFIELD    NE  LANDING ROLL     0.0   \n",
       "26894                             MIAMI INTL    FL         CLIMB  3000.0   \n",
       "\n",
       "            Species Name  Speed  Aircraft Damage  \n",
       "0                  FINCH  200.0                0  \n",
       "1                   GULL  150.0                0  \n",
       "2      WHITE-TAILED DEER  100.0                1  \n",
       "3            HORNED LARK  200.0                0  \n",
       "4            ROCK PIGEON  140.0                1  \n",
       "...                  ...    ...              ...  \n",
       "26890      CHIMNEY SWIFT  145.0                0  \n",
       "26891        ROCK PIGEON   10.0                0  \n",
       "26892     INDIGO BUNTING  250.0                0  \n",
       "26893       BARN SWALLOW  110.0                0  \n",
       "26894     TURKEY VULTURE  200.0                1  \n",
       "\n",
       "[26895 rows x 11 columns]"
      ]
     },
     "execution_count": 8,
     "metadata": {},
     "output_type": "execute_result"
    }
   ],
   "source": [
    "df = df.dropna()\n",
    "df = df.drop(df[df[\"Species Name\"]==\"UNKNOWN MEDIUM BIRD\"].index)\n",
    "df = df.drop(df[df[\"Species Name\"]==\"UNKNOWN SMALL BIRD\"].index)\n",
    "df = df.drop(df[df[\"Species Name\"]==\"UNKNOWN LARGE BIRD\"].index)\n",
    "df = df.drop(df[df[\"Species Name\"]==\"UNKNOWN BIRD\"].index)\n",
    "\n",
    "df.reset_index(drop=True) "
   ]
  },
  {
   "cell_type": "markdown",
   "metadata": {},
   "source": [
    "### Munge 3: Creating a date column"
   ]
  },
  {
   "cell_type": "markdown",
   "metadata": {},
   "source": [
    "I also thought it would be pretty useful if I had a date column in the format yyyy-mm-dd. This way I could plot time series data or see how the data varies with time. So I created a new Incident Date column which has date-time data type"
   ]
  },
  {
   "cell_type": "code",
   "execution_count": 9,
   "metadata": {},
   "outputs": [],
   "source": [
    "df[\"Incident Month\"] = np.where(df[\"Incident Month\"].astype(int)<10,\"0\"+df[\"Incident Month\"].astype(str),df[\"Incident Month\"])\n",
    "df[\"Incident Day\"] = np.where(df[\"Incident Day\"].astype(int)<10,\"0\"+df[\"Incident Day\"].astype(str),df[\"Incident Day\"])\n",
    "\n",
    "df[\"Incident Date\"] = df[\"Incident Year\"].astype(str) + df[\"Incident Month\"].astype(str) + df[\"Incident Day\"].astype(str)\n",
    "df[\"Incident Date\"] = df[\"Incident Date\"].astype(\"datetime64\")\n",
    "\n",
    "df = df[[\"Incident Date\",\"Incident Year\",\"Incident Month\",\"Incident Day\",\"Operator\",\"Airport\",\"State\",\"Flight Phase\",\"Height\",\"Species Name\",\"Speed\",\"Aircraft Damage\"]]\n",
    "df=df.reset_index(drop=True) "
   ]
  },
  {
   "cell_type": "markdown",
   "metadata": {},
   "source": [
    "Here is how the final data representation looks:"
   ]
  },
  {
   "cell_type": "code",
   "execution_count": 10,
   "metadata": {},
   "outputs": [
    {
     "data": {
      "text/html": [
       "<div>\n",
       "<style scoped>\n",
       "    .dataframe tbody tr th:only-of-type {\n",
       "        vertical-align: middle;\n",
       "    }\n",
       "\n",
       "    .dataframe tbody tr th {\n",
       "        vertical-align: top;\n",
       "    }\n",
       "\n",
       "    .dataframe thead th {\n",
       "        text-align: right;\n",
       "    }\n",
       "</style>\n",
       "<table border=\"1\" class=\"dataframe\">\n",
       "  <thead>\n",
       "    <tr style=\"text-align: right;\">\n",
       "      <th></th>\n",
       "      <th>Incident Date</th>\n",
       "      <th>Incident Year</th>\n",
       "      <th>Incident Month</th>\n",
       "      <th>Incident Day</th>\n",
       "      <th>Operator</th>\n",
       "      <th>Airport</th>\n",
       "      <th>State</th>\n",
       "      <th>Flight Phase</th>\n",
       "      <th>Height</th>\n",
       "      <th>Species Name</th>\n",
       "      <th>Speed</th>\n",
       "      <th>Aircraft Damage</th>\n",
       "    </tr>\n",
       "  </thead>\n",
       "  <tbody>\n",
       "    <tr>\n",
       "      <th>0</th>\n",
       "      <td>1990-01-03</td>\n",
       "      <td>1990</td>\n",
       "      <td>01</td>\n",
       "      <td>03</td>\n",
       "      <td>MILITARY</td>\n",
       "      <td>JACKSONVILLE INTL</td>\n",
       "      <td>FL</td>\n",
       "      <td>CLIMB</td>\n",
       "      <td>100.0</td>\n",
       "      <td>FINCH</td>\n",
       "      <td>200.0</td>\n",
       "      <td>0</td>\n",
       "    </tr>\n",
       "    <tr>\n",
       "      <th>1</th>\n",
       "      <td>1990-01-08</td>\n",
       "      <td>1990</td>\n",
       "      <td>01</td>\n",
       "      <td>08</td>\n",
       "      <td>1US AIRWAYS</td>\n",
       "      <td>ORLANDO INTL</td>\n",
       "      <td>FL</td>\n",
       "      <td>APPROACH</td>\n",
       "      <td>60.0</td>\n",
       "      <td>GULL</td>\n",
       "      <td>150.0</td>\n",
       "      <td>0</td>\n",
       "    </tr>\n",
       "    <tr>\n",
       "      <th>2</th>\n",
       "      <td>1990-01-11</td>\n",
       "      <td>1990</td>\n",
       "      <td>01</td>\n",
       "      <td>11</td>\n",
       "      <td>BUSINESS</td>\n",
       "      <td>JOHN C TUNE ARPT</td>\n",
       "      <td>TN</td>\n",
       "      <td>TAKEOFF RUN</td>\n",
       "      <td>0.0</td>\n",
       "      <td>WHITE-TAILED DEER</td>\n",
       "      <td>100.0</td>\n",
       "      <td>1</td>\n",
       "    </tr>\n",
       "    <tr>\n",
       "      <th>3</th>\n",
       "      <td>1990-01-11</td>\n",
       "      <td>1990</td>\n",
       "      <td>01</td>\n",
       "      <td>11</td>\n",
       "      <td>MILITARY</td>\n",
       "      <td>FORT SMITH REGIONAL ARPT</td>\n",
       "      <td>AR</td>\n",
       "      <td>CLIMB</td>\n",
       "      <td>1400.0</td>\n",
       "      <td>HORNED LARK</td>\n",
       "      <td>200.0</td>\n",
       "      <td>0</td>\n",
       "    </tr>\n",
       "    <tr>\n",
       "      <th>4</th>\n",
       "      <td>1990-01-11</td>\n",
       "      <td>1990</td>\n",
       "      <td>01</td>\n",
       "      <td>11</td>\n",
       "      <td>SOUTHWEST AIRLINES</td>\n",
       "      <td>LOUIE ARMSTRONG NEW ORLEANS INTL ARPT</td>\n",
       "      <td>LA</td>\n",
       "      <td>TAKEOFF RUN</td>\n",
       "      <td>0.0</td>\n",
       "      <td>ROCK PIGEON</td>\n",
       "      <td>140.0</td>\n",
       "      <td>1</td>\n",
       "    </tr>\n",
       "    <tr>\n",
       "      <th>...</th>\n",
       "      <td>...</td>\n",
       "      <td>...</td>\n",
       "      <td>...</td>\n",
       "      <td>...</td>\n",
       "      <td>...</td>\n",
       "      <td>...</td>\n",
       "      <td>...</td>\n",
       "      <td>...</td>\n",
       "      <td>...</td>\n",
       "      <td>...</td>\n",
       "      <td>...</td>\n",
       "      <td>...</td>\n",
       "    </tr>\n",
       "    <tr>\n",
       "      <th>26890</th>\n",
       "      <td>2015-09-30</td>\n",
       "      <td>2015</td>\n",
       "      <td>09</td>\n",
       "      <td>30</td>\n",
       "      <td>AMERICAN AIRLINES</td>\n",
       "      <td>CHARLOTTE/DOUGLAS INTL ARPT</td>\n",
       "      <td>NC</td>\n",
       "      <td>APPROACH</td>\n",
       "      <td>300.0</td>\n",
       "      <td>CHIMNEY SWIFT</td>\n",
       "      <td>145.0</td>\n",
       "      <td>0</td>\n",
       "    </tr>\n",
       "    <tr>\n",
       "      <th>26891</th>\n",
       "      <td>2015-09-30</td>\n",
       "      <td>2015</td>\n",
       "      <td>09</td>\n",
       "      <td>30</td>\n",
       "      <td>BUSINESS</td>\n",
       "      <td>CENTENNIAL ARPT</td>\n",
       "      <td>CO</td>\n",
       "      <td>APPROACH</td>\n",
       "      <td>10.0</td>\n",
       "      <td>ROCK PIGEON</td>\n",
       "      <td>10.0</td>\n",
       "      <td>0</td>\n",
       "    </tr>\n",
       "    <tr>\n",
       "      <th>26892</th>\n",
       "      <td>2015-09-30</td>\n",
       "      <td>2015</td>\n",
       "      <td>09</td>\n",
       "      <td>30</td>\n",
       "      <td>AMERICAN AIRLINES</td>\n",
       "      <td>CHARLOTTE/DOUGLAS INTL ARPT</td>\n",
       "      <td>NC</td>\n",
       "      <td>CLIMB</td>\n",
       "      <td>5500.0</td>\n",
       "      <td>INDIGO BUNTING</td>\n",
       "      <td>250.0</td>\n",
       "      <td>0</td>\n",
       "    </tr>\n",
       "    <tr>\n",
       "      <th>26893</th>\n",
       "      <td>2015-09-30</td>\n",
       "      <td>2015</td>\n",
       "      <td>09</td>\n",
       "      <td>30</td>\n",
       "      <td>SOUTHWEST AIRLINES</td>\n",
       "      <td>EPPLEY AIRFIELD</td>\n",
       "      <td>NE</td>\n",
       "      <td>LANDING ROLL</td>\n",
       "      <td>0.0</td>\n",
       "      <td>BARN SWALLOW</td>\n",
       "      <td>110.0</td>\n",
       "      <td>0</td>\n",
       "    </tr>\n",
       "    <tr>\n",
       "      <th>26894</th>\n",
       "      <td>2015-09-30</td>\n",
       "      <td>2015</td>\n",
       "      <td>09</td>\n",
       "      <td>30</td>\n",
       "      <td>BUSINESS</td>\n",
       "      <td>MIAMI INTL</td>\n",
       "      <td>FL</td>\n",
       "      <td>CLIMB</td>\n",
       "      <td>3000.0</td>\n",
       "      <td>TURKEY VULTURE</td>\n",
       "      <td>200.0</td>\n",
       "      <td>1</td>\n",
       "    </tr>\n",
       "  </tbody>\n",
       "</table>\n",
       "<p>26895 rows × 12 columns</p>\n",
       "</div>"
      ],
      "text/plain": [
       "      Incident Date  Incident Year Incident Month Incident Day  \\\n",
       "0        1990-01-03           1990             01           03   \n",
       "1        1990-01-08           1990             01           08   \n",
       "2        1990-01-11           1990             01           11   \n",
       "3        1990-01-11           1990             01           11   \n",
       "4        1990-01-11           1990             01           11   \n",
       "...             ...            ...            ...          ...   \n",
       "26890    2015-09-30           2015             09           30   \n",
       "26891    2015-09-30           2015             09           30   \n",
       "26892    2015-09-30           2015             09           30   \n",
       "26893    2015-09-30           2015             09           30   \n",
       "26894    2015-09-30           2015             09           30   \n",
       "\n",
       "                 Operator                                Airport State  \\\n",
       "0                MILITARY                      JACKSONVILLE INTL    FL   \n",
       "1             1US AIRWAYS                           ORLANDO INTL    FL   \n",
       "2                BUSINESS                       JOHN C TUNE ARPT    TN   \n",
       "3                MILITARY               FORT SMITH REGIONAL ARPT    AR   \n",
       "4      SOUTHWEST AIRLINES  LOUIE ARMSTRONG NEW ORLEANS INTL ARPT    LA   \n",
       "...                   ...                                    ...   ...   \n",
       "26890   AMERICAN AIRLINES            CHARLOTTE/DOUGLAS INTL ARPT    NC   \n",
       "26891            BUSINESS                        CENTENNIAL ARPT    CO   \n",
       "26892   AMERICAN AIRLINES            CHARLOTTE/DOUGLAS INTL ARPT    NC   \n",
       "26893  SOUTHWEST AIRLINES                        EPPLEY AIRFIELD    NE   \n",
       "26894            BUSINESS                             MIAMI INTL    FL   \n",
       "\n",
       "       Flight Phase  Height       Species Name  Speed  Aircraft Damage  \n",
       "0             CLIMB   100.0              FINCH  200.0                0  \n",
       "1          APPROACH    60.0               GULL  150.0                0  \n",
       "2       TAKEOFF RUN     0.0  WHITE-TAILED DEER  100.0                1  \n",
       "3             CLIMB  1400.0        HORNED LARK  200.0                0  \n",
       "4       TAKEOFF RUN     0.0        ROCK PIGEON  140.0                1  \n",
       "...             ...     ...                ...    ...              ...  \n",
       "26890      APPROACH   300.0      CHIMNEY SWIFT  145.0                0  \n",
       "26891      APPROACH    10.0        ROCK PIGEON   10.0                0  \n",
       "26892         CLIMB  5500.0     INDIGO BUNTING  250.0                0  \n",
       "26893  LANDING ROLL     0.0       BARN SWALLOW  110.0                0  \n",
       "26894         CLIMB  3000.0     TURKEY VULTURE  200.0                1  \n",
       "\n",
       "[26895 rows x 12 columns]"
      ]
     },
     "execution_count": 10,
     "metadata": {},
     "output_type": "execute_result"
    }
   ],
   "source": [
    "df"
   ]
  },
  {
   "cell_type": "markdown",
   "metadata": {},
   "source": [
    "## Data analysis\n",
    "Place your **data analysis** code and documentation within this section.\n",
    "- Perform at least 5 different statistical or other analyses of different aspects of the data.\n",
    "    - Your analyses must be specific and relevant to your chosen data set and show interesting aspects of it.\n",
    "    - Include at least one analysis that includes grouping rows by a shared attribute and performing some kind of statistical analysis on each group.\n",
    "    - Sort the data in at least 1 of your analyses, but sort on its own does not constitute an analysis on its own.\n",
    "- Keep each of your Code cells short and focused on a single task.\n",
    "- Include a Markdown cell above each Code cell that describes what task the code within the Code cell is performing.\n",
    "- Make as many code cells as you need to complete the analysis - a few have been created for you to start with."
   ]
  },
  {
   "cell_type": "markdown",
   "metadata": {},
   "source": [
    "This shows the number of wildlife strikes each Aircrat Operator experienced. I have chosen to display the 15 aircrafts which have witnessed the most wildlife  strikes"
   ]
  },
  {
   "cell_type": "code",
   "execution_count": 11,
   "metadata": {},
   "outputs": [
    {
     "data": {
      "text/plain": [
       "Operator\n",
       "BUSINESS                   4614\n",
       "SOUTHWEST AIRLINES         2882\n",
       "AMERICAN AIRLINES          2177\n",
       "MILITARY                   1484\n",
       "1US AIRWAYS                1325\n",
       "DELTA AIR LINES            1286\n",
       "PRIVATELY OWNED             919\n",
       "UNITED AIRLINES             787\n",
       "AMERICAN EAGLE AIRLINES     716\n",
       "JETBLUE AIRWAYS             596\n",
       "SKYWEST AIRLINES            569\n",
       "NORTHWEST AIRLINES          399\n",
       "US AIRWAYS                  398\n",
       "HAWAIIAN AIR                396\n",
       "FEDEX EXPRESS               383\n",
       "Name: Operator, dtype: int64"
      ]
     },
     "execution_count": 11,
     "metadata": {},
     "output_type": "execute_result"
    }
   ],
   "source": [
    "df.groupby(by=\"Operator\")[\"Operator\"].count().sort_values(ascending=False).head(15)"
   ]
  },
  {
   "cell_type": "markdown",
   "metadata": {},
   "source": [
    "This shows how many times each species has struck an aircraft. I have chosen to display the 15 species which have expeirenced the most collisions with aircrafts"
   ]
  },
  {
   "cell_type": "code",
   "execution_count": 12,
   "metadata": {},
   "outputs": [
    {
     "data": {
      "text/plain": [
       "Species Name\n",
       "GULL                 3823\n",
       "SPARROW              1573\n",
       "MOURNING DOVE        1511\n",
       "EUROPEAN STARLING    1301\n",
       "ROCK PIGEON          1004\n",
       "BLACKBIRD             961\n",
       "CANADA GOOSE          920\n",
       "BARN SWALLOW          904\n",
       "HAWK                  748\n",
       "KILLDEER              667\n",
       "RED-TAILED HAWK       615\n",
       "AMERICAN KESTREL      571\n",
       "HORNED LARK           557\n",
       "DUCK                  485\n",
       "SWALLOW               483\n",
       "Name: Species Name, dtype: int64"
      ]
     },
     "execution_count": 12,
     "metadata": {},
     "output_type": "execute_result"
    }
   ],
   "source": [
    "df.groupby(by=\"Species Name\")[\"Species Name\"].count().sort_values(ascending=False).head(15)\n",
    "#shows the top 15 species involved in aircraft strikes."
   ]
  },
  {
   "cell_type": "markdown",
   "metadata": {},
   "source": [
    "This shows how many times each species, which has caused Aircraft Damage, has struck the plane. "
   ]
  },
  {
   "cell_type": "code",
   "execution_count": 13,
   "metadata": {},
   "outputs": [
    {
     "data": {
      "text/plain": [
       "Species Name\n",
       "GULL                  746\n",
       "CANADA GOOSE          530\n",
       "WHITE-TAILED DEER     327\n",
       "TURKEY VULTURE        201\n",
       "RED-TAILED HAWK       195\n",
       "HAWK                  178\n",
       "DUCK                  167\n",
       "ROCK PIGEON           160\n",
       "GEESE                 129\n",
       "NEW WORLD VULTURES    116\n",
       "MOURNING DOVE         113\n",
       "MALLARD               112\n",
       "EUROPEAN STARLING      90\n",
       "RING-BILLED GULL       75\n",
       "HERRING GULL           66\n",
       "Name: Aircraft Damage, dtype: int64"
      ]
     },
     "execution_count": 13,
     "metadata": {},
     "output_type": "execute_result"
    }
   ],
   "source": [
    "df[df[\"Aircraft Damage\"]==1].groupby(by=\"Species Name\")[\"Aircraft Damage\"].count().sort_values(ascending=False).head(15) "
   ]
  },
  {
   "cell_type": "markdown",
   "metadata": {},
   "source": [
    "This displays the average speed at which the aircraft was travelling when it hit each of the respective species. I have decided to display the top 15 results of this search."
   ]
  },
  {
   "cell_type": "code",
   "execution_count": 14,
   "metadata": {},
   "outputs": [
    {
     "data": {
      "text/plain": [
       "Species Name\n",
       "LONG-BILLED CURLEW          290.000000\n",
       "LEAST FLYCATCHER            265.000000\n",
       "POCKETED FREE-TAILED BAT    250.000000\n",
       "NORTHERN SAW-WHET OWL       250.000000\n",
       "SPOTTED TOWHEE              240.000000\n",
       "LESSER YELLOWLEGS           240.000000\n",
       "PACIFIC-SLOPE FLYCATCHER    236.666667\n",
       "GRAY-CHEEKED THRUSH         235.000000\n",
       "PAINTED BUNTING             230.000000\n",
       "GRAY FLYCATCHER             225.000000\n",
       "VIRGINIA RAIL               225.000000\n",
       "SOLITARY SANDPIPER          220.000000\n",
       "CASSIN'S VIREO              220.000000\n",
       "COMMON MOORHEN              220.000000\n",
       "COMMON TERN                 220.000000\n",
       "Name: Speed, dtype: float64"
      ]
     },
     "execution_count": 14,
     "metadata": {},
     "output_type": "execute_result"
    }
   ],
   "source": [
    "df.groupby(by=\"Species Name\")[\"Speed\"].mean().sort_values(ascending=False).head(15)"
   ]
  },
  {
   "cell_type": "markdown",
   "metadata": {},
   "source": [
    "This shows the total amount of collisions experienced at each Flight Phase. I have decided to display the top 15 results of this search."
   ]
  },
  {
   "cell_type": "code",
   "execution_count": 15,
   "metadata": {},
   "outputs": [
    {
     "data": {
      "text/plain": [
       "Flight Phase\n",
       "APPROACH        10870\n",
       "LANDING ROLL     5664\n",
       "TAKEOFF RUN      5091\n",
       "CLIMB            4803\n",
       "DESCENT           339\n",
       "TAXI               70\n",
       "PARKED             34\n",
       "LOCAL              14\n",
       "LANDING            10\n",
       "Name: Flight Phase, dtype: int64"
      ]
     },
     "execution_count": 15,
     "metadata": {},
     "output_type": "execute_result"
    }
   ],
   "source": [
    "df.groupby(by=\"Flight Phase\")[\"Flight Phase\"].count().sort_values(ascending=False).head(15)"
   ]
  },
  {
   "cell_type": "markdown",
   "metadata": {},
   "source": [
    "This shows the total amount of collisions experienced each Year. I have decided to display the top 15 results of this search."
   ]
  },
  {
   "cell_type": "code",
   "execution_count": 16,
   "metadata": {},
   "outputs": [
    {
     "data": {
      "text/plain": [
       "Incident Year\n",
       "2013    1603\n",
       "2014    1573\n",
       "2012    1523\n",
       "2011    1517\n",
       "2010    1475\n",
       "2009    1286\n",
       "2015    1183\n",
       "2002    1060\n",
       "2003    1059\n",
       "2006    1031\n",
       "2005    1021\n",
       "2008     972\n",
       "2007     958\n",
       "2000     944\n",
       "2004     925\n",
       "2001     911\n",
       "1991     853\n",
       "1998     836\n",
       "1994     832\n",
       "1993     814\n",
       "1999     790\n",
       "1992     781\n",
       "1997     769\n",
       "1995     762\n",
       "1996     752\n",
       "1990     665\n",
       "Name: Incident Year, dtype: int64"
      ]
     },
     "execution_count": 16,
     "metadata": {},
     "output_type": "execute_result"
    }
   ],
   "source": [
    "df.groupby(by=\"Incident Year\")[\"Incident Year\"].count().sort_values(ascending=False)"
   ]
  },
  {
   "cell_type": "markdown",
   "metadata": {},
   "source": [
    "I wanted to investigate whether the speed of the aircraft made it more or less likely to cause damage to the aircraft. \n",
    "In order to do this, I made two new dataframes. high_speed_df and low_speed_df. high_speed_df had only those entries with a speed greater of 100 mph. low_speed_df had only those entries with a speed lesser than 100 mph."
   ]
  },
  {
   "cell_type": "code",
   "execution_count": 17,
   "metadata": {},
   "outputs": [
    {
     "name": "stdout",
     "output_type": "stream",
     "text": [
      "The total amount of times aircraft damage was caused in high speed instances was 3602\n",
      "The total amount of times aircraft damage was caused in low speed instances was 1102\n"
     ]
    }
   ],
   "source": [
    "high_speed_df = df [ df[\"Speed\"]>=100]\n",
    "low_speed_df = df [ df[\"Speed\"]<100]\n",
    "print(\"The total amount of times aircraft damage was caused in high speed instances was\", high_speed_df[\"Aircraft Damage\"].sum())\n",
    "print(\"The total amount of times aircraft damage was caused in low speed instances was\", low_speed_df[\"Aircraft Damage\"].sum())"
   ]
  },
  {
   "cell_type": "markdown",
   "metadata": {},
   "source": [
    "I then conducted the same investigation with Height of the airplane."
   ]
  },
  {
   "cell_type": "code",
   "execution_count": 18,
   "metadata": {},
   "outputs": [
    {
     "name": "stdout",
     "output_type": "stream",
     "text": [
      "The total amount of times aircraft damage was caused in high altitude instances was 26\n",
      "The total amount of times aircraft damage was caused in low altitude instances was 4678\n"
     ]
    }
   ],
   "source": [
    "high_df = df [ df[\"Height\"]>=10000]\n",
    "low_df = df [ df[\"Height\"]<10000]\n",
    "print(\"The total amount of times aircraft damage was caused in high altitude instances was\", high_df[\"Aircraft Damage\"].sum())\n",
    "print(\"The total amount of times aircraft damage was caused in low altitude instances was\", low_df[\"Aircraft Damage\"].sum())"
   ]
  },
  {
   "cell_type": "markdown",
   "metadata": {},
   "source": [
    "For my own curiosity, I wanted to see:\n",
    "1. the highest altitude at which a collision took place. \n",
    "2. the fastest an airplane was travelling when struck by an animal. \n"
   ]
  },
  {
   "cell_type": "code",
   "execution_count": 19,
   "metadata": {},
   "outputs": [
    {
     "name": "stdout",
     "output_type": "stream",
     "text": [
      "The highest altitude at which a collision took place was  20000.0 feet\n",
      "The fastest an airplane was travelling when struck by an animal was  2500.0 mph\n"
     ]
    }
   ],
   "source": [
    "print(\"The highest altitude at which a collision took place was \", df[\"Height\"].max(), \"feet\")\n",
    "print(\"The fastest an airplane was travelling when struck by an animal was \", df[\"Speed\"].max(),\"mph\")\n",
    "max_height_df = df[df[\"Height\"]== df[\"Height\"].max()]\n",
    "max_speed_df = df [df[\"Speed\"]==df[\"Speed\"].max()]"
   ]
  },
  {
   "cell_type": "markdown",
   "metadata": {},
   "source": [
    "Here is the entry corresponding to the highest crash:"
   ]
  },
  {
   "cell_type": "code",
   "execution_count": 20,
   "metadata": {},
   "outputs": [
    {
     "data": {
      "text/html": [
       "<div>\n",
       "<style scoped>\n",
       "    .dataframe tbody tr th:only-of-type {\n",
       "        vertical-align: middle;\n",
       "    }\n",
       "\n",
       "    .dataframe tbody tr th {\n",
       "        vertical-align: top;\n",
       "    }\n",
       "\n",
       "    .dataframe thead th {\n",
       "        text-align: right;\n",
       "    }\n",
       "</style>\n",
       "<table border=\"1\" class=\"dataframe\">\n",
       "  <thead>\n",
       "    <tr style=\"text-align: right;\">\n",
       "      <th></th>\n",
       "      <th>Incident Date</th>\n",
       "      <th>Incident Year</th>\n",
       "      <th>Incident Month</th>\n",
       "      <th>Incident Day</th>\n",
       "      <th>Operator</th>\n",
       "      <th>Airport</th>\n",
       "      <th>State</th>\n",
       "      <th>Flight Phase</th>\n",
       "      <th>Height</th>\n",
       "      <th>Species Name</th>\n",
       "      <th>Speed</th>\n",
       "      <th>Aircraft Damage</th>\n",
       "    </tr>\n",
       "  </thead>\n",
       "  <tbody>\n",
       "    <tr>\n",
       "      <th>26567</th>\n",
       "      <td>2015-08-08</td>\n",
       "      <td>2015</td>\n",
       "      <td>08</td>\n",
       "      <td>08</td>\n",
       "      <td>BUSINESS</td>\n",
       "      <td>CUYAHOGA COUNTY ARPT</td>\n",
       "      <td>OH</td>\n",
       "      <td>DESCENT</td>\n",
       "      <td>20000.0</td>\n",
       "      <td>LESSER YELLOWLEGS</td>\n",
       "      <td>260.0</td>\n",
       "      <td>1</td>\n",
       "    </tr>\n",
       "  </tbody>\n",
       "</table>\n",
       "</div>"
      ],
      "text/plain": [
       "      Incident Date  Incident Year Incident Month Incident Day  Operator  \\\n",
       "26567    2015-08-08           2015             08           08  BUSINESS   \n",
       "\n",
       "                    Airport State Flight Phase   Height       Species Name  \\\n",
       "26567  CUYAHOGA COUNTY ARPT    OH      DESCENT  20000.0  LESSER YELLOWLEGS   \n",
       "\n",
       "       Speed  Aircraft Damage  \n",
       "26567  260.0                1  "
      ]
     },
     "execution_count": 20,
     "metadata": {},
     "output_type": "execute_result"
    }
   ],
   "source": [
    "max_height_df"
   ]
  },
  {
   "cell_type": "markdown",
   "metadata": {},
   "source": [
    "Here is the entry corresponding to the fastest crash:"
   ]
  },
  {
   "cell_type": "code",
   "execution_count": 21,
   "metadata": {},
   "outputs": [
    {
     "data": {
      "text/html": [
       "<div>\n",
       "<style scoped>\n",
       "    .dataframe tbody tr th:only-of-type {\n",
       "        vertical-align: middle;\n",
       "    }\n",
       "\n",
       "    .dataframe tbody tr th {\n",
       "        vertical-align: top;\n",
       "    }\n",
       "\n",
       "    .dataframe thead th {\n",
       "        text-align: right;\n",
       "    }\n",
       "</style>\n",
       "<table border=\"1\" class=\"dataframe\">\n",
       "  <thead>\n",
       "    <tr style=\"text-align: right;\">\n",
       "      <th></th>\n",
       "      <th>Incident Date</th>\n",
       "      <th>Incident Year</th>\n",
       "      <th>Incident Month</th>\n",
       "      <th>Incident Day</th>\n",
       "      <th>Operator</th>\n",
       "      <th>Airport</th>\n",
       "      <th>State</th>\n",
       "      <th>Flight Phase</th>\n",
       "      <th>Height</th>\n",
       "      <th>Species Name</th>\n",
       "      <th>Speed</th>\n",
       "      <th>Aircraft Damage</th>\n",
       "    </tr>\n",
       "  </thead>\n",
       "  <tbody>\n",
       "    <tr>\n",
       "      <th>14615</th>\n",
       "      <td>2006-10-13</td>\n",
       "      <td>2006</td>\n",
       "      <td>10</td>\n",
       "      <td>13</td>\n",
       "      <td>MILITARY</td>\n",
       "      <td>HARRISBURG INTL</td>\n",
       "      <td>PA</td>\n",
       "      <td>CLIMB</td>\n",
       "      <td>180.0</td>\n",
       "      <td>SWALLOW</td>\n",
       "      <td>2500.0</td>\n",
       "      <td>0</td>\n",
       "    </tr>\n",
       "  </tbody>\n",
       "</table>\n",
       "</div>"
      ],
      "text/plain": [
       "      Incident Date  Incident Year Incident Month Incident Day  Operator  \\\n",
       "14615    2006-10-13           2006             10           13  MILITARY   \n",
       "\n",
       "               Airport State Flight Phase  Height Species Name   Speed  \\\n",
       "14615  HARRISBURG INTL    PA        CLIMB   180.0      SWALLOW  2500.0   \n",
       "\n",
       "       Aircraft Damage  \n",
       "14615                0  "
      ]
     },
     "execution_count": 21,
     "metadata": {},
     "output_type": "execute_result"
    }
   ],
   "source": [
    "max_speed_df"
   ]
  },
  {
   "cell_type": "markdown",
   "metadata": {},
   "source": [
    "## Data visualization"
   ]
  },
  {
   "cell_type": "markdown",
   "metadata": {},
   "source": [
    "This graph displays the total wildlife Aircraft strikes which took place every year"
   ]
  },
  {
   "cell_type": "code",
   "execution_count": 22,
   "metadata": {},
   "outputs": [
    {
     "data": {
      "text/plain": [
       "<matplotlib.axes._subplots.AxesSubplot at 0x11f7fb550>"
      ]
     },
     "execution_count": 22,
     "metadata": {},
     "output_type": "execute_result"
    },
    {
     "data": {
      "image/png": "[encoded data removed]",
      "text/plain": [
       "<Figure size 432x288 with 1 Axes>"
      ]
     },
     "metadata": {
      "needs_background": "light"
     },
     "output_type": "display_data"
    }
   ],
   "source": [
    "df_to_plot = df[[\"Incident Year\",\"Incident Day\"]].groupby(by=['Incident Year']).aggregate({'count'})\n",
    "df_to_plot.plot.bar(legend=False)"
   ]
  },
  {
   "cell_type": "markdown",
   "metadata": {},
   "source": [
    "This graph displays the average speed with which each species stuck an airplane. I have decided to graph the top 15 highest results"
   ]
  },
  {
   "cell_type": "code",
   "execution_count": 23,
   "metadata": {},
   "outputs": [
    {
     "data": {
      "text/plain": [
       "<matplotlib.axes._subplots.AxesSubplot at 0x11f7e40d0>"
      ]
     },
     "execution_count": 23,
     "metadata": {},
     "output_type": "execute_result"
    },
    {
     "data": {
      "image/png": "[encoded data removed]",
      "text/plain": [
       "<Figure size 432x288 with 1 Axes>"
      ]
     },
     "metadata": {
      "needs_background": "light"
     },
     "output_type": "display_data"
    }
   ],
   "source": [
    "df_to_plot = df[[\"Species Name\",\"Speed\"]].groupby(by=['Species Name']).aggregate({'mean'})\n",
    "df_to_plot = df_to_plot.sort_values(by=('Speed',\"mean\"), ascending=False)\n",
    "df_to_plot[:15][::-1].plot.barh(y=['Speed'],legend=False)"
   ]
  },
  {
   "cell_type": "markdown",
   "metadata": {},
   "source": [
    "This graph displays the distribution of wildlife strikes, according to the Flight Phase."
   ]
  },
  {
   "cell_type": "code",
   "execution_count": 24,
   "metadata": {},
   "outputs": [
    {
     "data": {
      "text/plain": [
       "array([<matplotlib.axes._subplots.AxesSubplot object at 0x11f7c9110>],\n",
       "      dtype=object)"
      ]
     },
     "execution_count": 24,
     "metadata": {},
     "output_type": "execute_result"
    },
    {
     "data": {
      "image/png": "[encoded data removed]",
      "text/plain": [
       "<Figure size 432x288 with 1 Axes>"
      ]
     },
     "metadata": {},
     "output_type": "display_data"
    }
   ],
   "source": [
    "df_to_plot= df[[\"Flight Phase\",\"Speed\"]].groupby(by=['Flight Phase']).aggregate({'count'})\n",
    "df_to_plot.plot.pie(subplots=True,legend=False)"
   ]
  },
  {
   "cell_type": "markdown",
   "metadata": {},
   "source": [
    "This graph displays the distribution of animals which have struck airplanes. "
   ]
  },
  {
   "cell_type": "code",
   "execution_count": 25,
   "metadata": {},
   "outputs": [
    {
     "data": {
      "text/plain": [
       "<matplotlib.axes._subplots.AxesSubplot at 0x11f788b10>"
      ]
     },
     "execution_count": 25,
     "metadata": {},
     "output_type": "execute_result"
    },
    {
     "data": {
      "image/png": "[encoded data removed]",
      "text/plain": [
       "<Figure size 432x288 with 1 Axes>"
      ]
     },
     "metadata": {},
     "output_type": "display_data"
    }
   ],
   "source": [
    "df_to_plot = df[[\"Species Name\",\"Speed\"]].groupby(by=['Species Name']).aggregate({'count'})\n",
    "df_to_plot = df_to_plot.sort_values(by=('Speed',\"count\"), ascending=False)\n",
    "df_to_plot[:15][::-1].plot.pie(y=\"Speed\",legend=False)"
   ]
  },
  {
   "cell_type": "markdown",
   "metadata": {},
   "source": [
    "This graph displays the number of strikes which had aircraft damage each year"
   ]
  },
  {
   "cell_type": "code",
   "execution_count": 26,
   "metadata": {},
   "outputs": [
    {
     "data": {
      "text/plain": [
       "<matplotlib.axes._subplots.AxesSubplot at 0x11f777ad0>"
      ]
     },
     "execution_count": 26,
     "metadata": {},
     "output_type": "execute_result"
    },
    {
     "data": {
      "image/png": "[encoded data removed]",
      "text/plain": [
       "<Figure size 432x288 with 1 Axes>"
      ]
     },
     "metadata": {
      "needs_background": "light"
     },
     "output_type": "display_data"
    }
   ],
   "source": [
    "df_to_plot = df[[\"Incident Year\",\"Aircraft Damage\"]].groupby(by=['Incident Year']).aggregate({'sum'})\n",
    "df_to_plot.plot.bar(legend=False)"
   ]
  },
  {
   "cell_type": "code",
   "execution_count": null,
   "metadata": {},
   "outputs": [],
   "source": []
  }
 ],
 "metadata": {
  "kernelspec": {
   "display_name": "Python 3",
   "language": "python",
   "name": "python3"
  },
  "language_info": {
   "codemirror_mode": {
    "name": "ipython",
    "version": 3
   },
   "file_extension": ".py",
   "mimetype": "text/x-python",
   "name": "python",
   "nbconvert_exporter": "python",
   "pygments_lexer": "ipython3",
   "version": "3.7.6"
  }
 },
 "nbformat": 4,
 "nbformat_minor": 4
}
